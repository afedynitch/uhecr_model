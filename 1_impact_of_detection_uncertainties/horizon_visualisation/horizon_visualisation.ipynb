{
 "cells": [
  {
   "cell_type": "markdown",
   "metadata": {},
   "source": [
    "# GZK horizon visualisation\n",
    "\n",
    "Assuming the continuous loss approximation for UHE proton propagation and typical detection uncertainties described in the paper, we can try to visualise what this means. We have a kind of *effective GZK horizon* for each particle, depending on its energy and the detection uncertainties. See Section 2.6 for details. We want to be able to plot the following:\n",
    "\n",
    "$$\n",
    "P(x, z | E, \\omega, \\rm{detected}),\n",
    "$$\n",
    "i.e. where the UHECR could have come from if we detect it with energy $E$ and direction $\\omega$.\n",
    "<br>\n",
    "<br>\n",
    "*This code was used to make Figures 4 and 5 in Capel & Mortlock (2019).*"
   ]
  },
  {
   "cell_type": "code",
   "execution_count": 1,
   "metadata": {
    "ExecuteTime": {
     "end_time": "2019-02-01T13:19:10.354032Z",
     "start_time": "2019-02-01T13:19:08.299617Z"
    }
   },
   "outputs": [
    {
     "name": "stderr",
     "output_type": "stream",
     "text": [
      "/Users/fran/projects/bayes/lib/python3.6/site-packages/h5py/__init__.py:36: FutureWarning: Conversion of the second argument of issubdtype from `float` to `np.floating` is deprecated. In future, it will be treated as `np.float64 == np.dtype(float).type`.\n",
      "  from ._conv import register_converters as _register_converters\n",
      "/Users/fran/projects/bayes/lib/python3.6/site-packages/tqdm/autonotebook/__init__.py:14: TqdmExperimentalWarning: Using `tqdm.autonotebook.tqdm` in notebook mode. Use `tqdm.tqdm` instead to force console mode (e.g. in jupyter console)\n",
      "  \" (e.g. in jupyter console)\", TqdmExperimentalWarning)\n"
     ]
    }
   ],
   "source": [
    "import numpy as np\n",
    "import h5py\n",
    "from scipy import interpolate\n",
    "import stan_utility\n",
    "\n",
    "from fancy.propagation.energy_loss import get_Eth_src\n",
    "from fancy.plotting.HPD_regions import grid_HPD_contours, HPD_contours\n",
    "from horizon_visualisation import P_x_z"
   ]
  },
  {
   "cell_type": "code",
   "execution_count": 2,
   "metadata": {
    "ExecuteTime": {
     "end_time": "2019-02-01T13:19:10.362616Z",
     "start_time": "2019-02-01T13:19:10.356367Z"
    }
   },
   "outputs": [],
   "source": [
    "from matplotlib import pyplot as plt\n",
    "from matplotlib.lines import Line2D\n",
    "from matplotlib.colors import ListedColormap\n",
    "import seaborn as sns \n",
    "from fancy.plotting.colours import darkblue, midblue, lightblue, purple, lightpurple\n",
    "plt.style.use(['minimalist']) # to match paper style"
   ]
  },
  {
   "cell_type": "markdown",
   "metadata": {},
   "source": [
    "## Calculation\n",
    "\n",
    "If we **ignore detection uncertainties**, it is possible to find an analytical expression for the above probability (see Equation 13). We plot this here by interpolating over a precomputed grid of values. "
   ]
  },
  {
   "cell_type": "markdown",
   "metadata": {},
   "source": [
    "### Precomputing $E_\\rm{src}$ and $E_\\rm{arr}$\n",
    "These cells show how the files in `output/` have been computed. These computations can be re-run, but the output files are also provided with this code, so it is possible to skip ahead to the next subsection. "
   ]
  },
  {
   "cell_type": "code",
   "execution_count": null,
   "metadata": {
    "ExecuteTime": {
     "end_time": "2019-02-01T13:14:11.925075Z",
     "start_time": "2019-02-01T13:13:59.148531Z"
    }
   },
   "outputs": [],
   "source": [
    "# Select representative energies\n",
    "selected_E = [50, 70] # EeV\n",
    "\n",
    "# Precompute the equivalent source energies \n",
    "# for a range of propagation distances\n",
    "# (this takes a while... ~10 min)\n",
    "D = np.linspace(0, 500, 100) # Mpc\n",
    "Esrc = [get_Eth_src(E, D) for E in selected_E] # EeV\n",
    "\n",
    "# Write to a file to save time in future \n",
    "with h5py.File('output/precomp_Esrc.h5', 'w') as f:\n",
    "    f.create_dataset('selected_E', data = selected_E)\n",
    "    f.create_dataset('Esrc', data = Esrc)\n",
    "    f.create_dataset('D', data = D)"
   ]
  },
  {
   "cell_type": "code",
   "execution_count": null,
   "metadata": {
    "ExecuteTime": {
     "end_time": "2019-02-01T13:14:11.926040Z",
     "start_time": "2019-02-01T13:13:59.775Z"
    }
   },
   "outputs": [],
   "source": [
    "# We also want to calculate the arrival energies \n",
    "# for a range of source energies and distances.\n",
    "# This is done with an MPI script on XX cores.\n",
    "# $ mpirun -n XX python precomp_Earr.py"
   ]
  },
  {
   "cell_type": "markdown",
   "metadata": {},
   "source": [
    "### Read precomputed values"
   ]
  },
  {
   "cell_type": "code",
   "execution_count": 3,
   "metadata": {
    "ExecuteTime": {
     "end_time": "2019-02-01T13:19:14.165624Z",
     "start_time": "2019-02-01T13:19:14.154356Z"
    }
   },
   "outputs": [],
   "source": [
    "with h5py.File('output/precomp_Esrc.h5', 'r') as f:\n",
    "    D = f['D'].value\n",
    "    Esrc = f['Esrc'].value\n",
    "    \n",
    "with h5py.File('output/precomp_Earr.h5', 'r') as f:\n",
    "    Earr_grid = f['Earr_grid'].value\n",
    "    D_grid = f['D_grid'].value\n",
    "    E_grid = f['E_grid'].value"
   ]
  },
  {
   "cell_type": "markdown",
   "metadata": {},
   "source": [
    "### Figure 4 (upper panel)\n",
    "\n",
    "For calculation, see `horizon_visualisation.py`."
   ]
  },
  {
   "cell_type": "code",
   "execution_count": 4,
   "metadata": {
    "ExecuteTime": {
     "end_time": "2019-02-01T13:19:15.337916Z",
     "start_time": "2019-02-01T13:19:15.334131Z"
    }
   },
   "outputs": [],
   "source": [
    "# Set parameters\n",
    "alpha = 2\n",
    "B = 1 # nG\n",
    "\n",
    "# Unpack for readability \n",
    "Esrc_50 = Esrc[0]\n",
    "Esrc_70 = Esrc[1]"
   ]
  },
  {
   "cell_type": "code",
   "execution_count": 5,
   "metadata": {
    "ExecuteTime": {
     "end_time": "2019-02-01T13:19:24.862067Z",
     "start_time": "2019-02-01T13:19:16.025384Z"
    }
   },
   "outputs": [],
   "source": [
    "# Calculate P(x, z | E omega) on a meshgrid of x, z\n",
    "# Takes ~ 10s\n",
    "xl = np.linspace(0, 100, 300) # Mpc\n",
    "zl = np.linspace(0, 400, 300) # Mpc\n",
    "z, x = np.meshgrid(zl, xl)\n",
    "\n",
    "P_x_z_50 = P_x_z(z, x, Esrc_50, D_grid, E_grid, Earr_grid, B, alpha)\n",
    "P_x_z_70 = P_x_z(z, x, Esrc_70, D_grid, E_grid, Earr_grid, B, alpha)"
   ]
  },
  {
   "cell_type": "code",
   "execution_count": 6,
   "metadata": {
    "ExecuteTime": {
     "end_time": "2019-02-01T13:19:26.150745Z",
     "start_time": "2019-02-01T13:19:24.864147Z"
    }
   },
   "outputs": [],
   "source": [
    "# Get HPD contours or tail regions to show shape\n",
    "levels = [0.99999, 0.99995, 0.9999, 0.999]\n",
    "l50 = grid_HPD_contours(np.nan_to_num(P_x_z_50), levels)\n",
    "levels = [0.99997, 0.9999, .9995, 0.999]\n",
    "l70 = grid_HPD_contours(np.nan_to_num(P_x_z_70), levels)\n",
    "\n",
    "# Prepare legend\n",
    "legend_elements = [Line2D([0], [0], color = lightpurple, linestyle = ':', \n",
    "                          label = '$E = 50$ EeV', linewidth = 1.5), \n",
    "                  Line2D([0], [0], color = purple, label = '$E = 70$ EeV', \n",
    "                         linewidth = 1.5)]"
   ]
  },
  {
   "cell_type": "code",
   "execution_count": 7,
   "metadata": {
    "ExecuteTime": {
     "end_time": "2019-02-01T13:19:55.859961Z",
     "start_time": "2019-02-01T13:19:54.528746Z"
    },
    "scrolled": true
   },
   "outputs": [
    {
     "data": {
      "image/png": "[encoded data removed]",
      "text/plain": [
       "<Figure size 432x108 with 1 Axes>"
      ]
     },
     "metadata": {},
     "output_type": "display_data"
    }
   ],
   "source": [
    "# Plot \n",
    "fig, ax = plt.subplots()\n",
    "fig.set_size_inches((6, 0.25 * 6)) # hold aspect ratio\n",
    "\n",
    "# Contour plots\n",
    "ax.contour(zl, xl, P_x_z_70, l70, colors = purple, linewidths = 1.5, zorder = 3)\n",
    "ax.contour(zl, xl, P_x_z_50, l50, colors = lightpurple, \n",
    "           linewidths = 1.5, linestyles = ':', zorder = 2)\n",
    "ax.contourf(z, x, P_x_z_70, l70, extend = 'max', \n",
    "             alpha = 0.5, colors = purple, zorder = 3)\n",
    "ax.contourf(z, x, P_x_z_50, l50, extend = 'max', \n",
    "             alpha = 0.2, colors = lightpurple, zorder = 2)\n",
    "\n",
    "# Annotation\n",
    "ax.set_ylabel(r'$x$ / Mpc')\n",
    "ax.set_title(r'$P(x, z | E)$ - calculation', y = 1.4)\n",
    "ax.set_xlim(0, 400)\n",
    "ax.set_ylim(0, 50)\n",
    "ax.text(30, 42.5, \n",
    "         '$B = 1$ nG \\n $\\\\alpha = 2$', fontsize = 16)\n",
    "ax.legend(handles = legend_elements, bbox_to_anchor = (1.1, 1.4));"
   ]
  },
  {
   "cell_type": "markdown",
   "metadata": {},
   "source": [
    "## Simulation\n",
    "\n",
    "In order to **include the detection uncertainties**, we run a simulation of the UHECR propagation. For consistency, we use the same <tt>Stan</tt> functions that are called in the fit (see `stan/uhecr_propagation.stan`).    \n",
    "\n",
    "The full simulation is quite time consuming, so the values used in the paper are also saved in `output/paper_horizon_vis_output.h5` and so you can directly skip to reading in and plotting these values."
   ]
  },
  {
   "cell_type": "markdown",
   "metadata": {},
   "source": [
    "### Run simulation"
   ]
  },
  {
   "cell_type": "code",
   "execution_count": 10,
   "metadata": {
    "ExecuteTime": {
     "end_time": "2019-02-01T13:22:46.593967Z",
     "start_time": "2019-02-01T13:21:58.863243Z"
    }
   },
   "outputs": [
    {
     "name": "stderr",
     "output_type": "stream",
     "text": [
      "INFO:pystan:COMPILING THE C++ CODE FOR MODEL horizon_visualisation_fc267e6ef824d106119ba0c157a0b27b NOW.\n"
     ]
    }
   ],
   "source": [
    "# Compile the Stan model\n",
    "stan_path = '../../stan/' # point to stan modules\n",
    "model = stan_utility.compile_model(filename = 'horizon_visualisation.stan', \n",
    "                                   model_name = 'horizon_visualisation', \n",
    "                                   include_paths = stan_path)"
   ]
  },
  {
   "cell_type": "code",
   "execution_count": 11,
   "metadata": {
    "ExecuteTime": {
     "end_time": "2019-02-01T13:22:50.359478Z",
     "start_time": "2019-02-01T13:22:46.597170Z"
    }
   },
   "outputs": [],
   "source": [
    "# Run the simulation\n",
    "from fancy.detector.auger2014 import f_E, kappa_d\n",
    "\n",
    "random_seed = 19920715\n",
    "\n",
    "# Need a lot of events to get a significant \n",
    "# number above the detection threshold of 52 EeV. \n",
    "#N = int(1E6) # Used in paper plots (takes a while)\n",
    "N = int(1E2) # Used for testing, probably won't be able to find contours \n",
    "\n",
    "inputs = {'varpi' : [0, 0, 1], \n",
    "          'alpha' : 2, \n",
    "          'Eth' : 20, # Simulate down to 20 EeV to take into account E det. effects\n",
    "          'Eerr' : f_E, \n",
    "          'N' : N, \n",
    "          'B' : 1, # To match calculation above\n",
    "          'kappa_d' : kappa_d} \n",
    "\n",
    "simulation = model.sampling(data = inputs, iter = 1, chains = 1, \n",
    "                            algorithm = \"Fixed_param\", seed = random_seed)"
   ]
  },
  {
   "cell_type": "code",
   "execution_count": 12,
   "metadata": {
    "ExecuteTime": {
     "end_time": "2019-02-01T13:22:54.172510Z",
     "start_time": "2019-02-01T13:22:54.165970Z"
    }
   },
   "outputs": [],
   "source": [
    "from stan_utility.utils import fast_extract \n",
    "\n",
    "spec = {'omega' : (N, 3), 'omega_det' : (N, 3), \n",
    "        'E' : N, 'kappa' : N, 'Earr' : N, 'Edet' : N, 'Eth_src' : N, \n",
    "        'D' : N, 'D_in' : (N, 1) }\n",
    "\n",
    "output = fast_extract(simulation, spec)"
   ]
  },
  {
   "cell_type": "code",
   "execution_count": 13,
   "metadata": {
    "ExecuteTime": {
     "end_time": "2019-02-01T13:23:01.883045Z",
     "start_time": "2019-02-01T13:23:01.862599Z"
    }
   },
   "outputs": [],
   "source": [
    "# Write to file\n",
    "output_file = 'output/my_horizon_vis_output.h5'\n",
    "with h5py.File(output_file, 'w') as f:\n",
    "    \n",
    "    # Store outputs\n",
    "    f.create_dataset('omega', data = output['omega'])\n",
    "    f.create_dataset('omega_det', data = output['omega_det'])\n",
    "    f.create_dataset('Earr', data = output['Earr'])\n",
    "    f.create_dataset('Edet', data = output['Edet'])\n",
    "    f.create_dataset('D', data = output['D'])\n",
    "    \n",
    "    # Store inputs\n",
    "    for key, value in inputs.items():\n",
    "        f.create_dataset(key, data = value)"
   ]
  },
  {
   "cell_type": "markdown",
   "metadata": {},
   "source": [
    "### Read in values and find $P(x, z | E, \\omega)$"
   ]
  },
  {
   "cell_type": "code",
   "execution_count": 14,
   "metadata": {
    "ExecuteTime": {
     "end_time": "2019-02-01T13:23:03.803683Z",
     "start_time": "2019-02-01T13:23:03.750567Z"
    }
   },
   "outputs": [],
   "source": [
    "# Read in values\n",
    "with h5py.File('output/paper_horizon_vis_output.h5', 'r') as f:\n",
    "    omega = f['omega'].value\n",
    "    omega_det = f['omega_det'].value\n",
    "    Earr = f['Earr'].value\n",
    "    Edet = f['Edet'].value\n",
    "    D = f['D'].value"
   ]
  },
  {
   "cell_type": "code",
   "execution_count": 15,
   "metadata": {
    "ExecuteTime": {
     "end_time": "2019-02-01T13:23:12.425074Z",
     "start_time": "2019-02-01T13:23:04.662550Z"
    }
   },
   "outputs": [],
   "source": [
    "# Calculate theta, D from sim output for a range of energy selections\n",
    "theta = np.arccos([np.dot(o, inputs['varpi']) for o in omega])\n",
    "theta_d = np.arccos([np.dot(o, inputs['varpi']) for o in omega_det])\n",
    "\n",
    "# Can add to this to reproduce all plots\n",
    "# Keep ~ 5 EeV width for reasonable number of events\n",
    "E_selection = [[50, 55], [70, 75]] \n",
    "\n",
    "Darr = []\n",
    "Ddet = []\n",
    "tharr = []\n",
    "thdet = []\n",
    "\n",
    "for E in E_selection:\n",
    "    Darr.append([_ for i, _ in enumerate(D) if Earr[i] > E[0] and Earr[i] < E[1]])\n",
    "    Ddet.append([_ for i, _ in enumerate(D) if Edet[i] > E[0] and Edet[i] < E[1]])\n",
    "    tharr.append([_ for i, _ in enumerate(theta) if Earr[i] > E[0] and Earr[i] < E[1]])\n",
    "    thdet.append([_ for i, _ in enumerate(theta_d) \n",
    "                  if Edet[i] > E[0] and Edet[i] < E[1]])\n",
    "\n",
    "# Convert theta, D -> x, z\n",
    "z_arr = []\n",
    "z_det = []\n",
    "x_arr = []\n",
    "x_det = []\n",
    "\n",
    "for (d, t) in zip(Darr, tharr):\n",
    "    z_arr.append(d * np.cos(t))\n",
    "    x_arr.append(d * np.sin(t))\n",
    "    \n",
    "for (d, t) in zip(Ddet, thdet): \n",
    "    z_det.append(d * np.cos(t))\n",
    "    x_det.append(d * np.sin(t))"
   ]
  },
  {
   "cell_type": "markdown",
   "metadata": {},
   "source": [
    "### Figure 4 (lower panel)"
   ]
  },
  {
   "cell_type": "code",
   "execution_count": 16,
   "metadata": {
    "ExecuteTime": {
     "end_time": "2019-02-01T13:23:14.173826Z",
     "start_time": "2019-02-01T13:23:14.134995Z"
    }
   },
   "outputs": [],
   "source": [
    "# Contour levels\n",
    "levels = [0.97, 0.8, 0.6, 0.3, 0.1]\n",
    "l50 = HPD_contours(z_arr[0], x_arr[0], levels, 50)\n",
    "l70 = HPD_contours(z_arr[1], x_arr[1], levels, 50)\n",
    "\n",
    "# Prepare legend\n",
    "legend_elements = [Line2D([0], [0], color = lightpurple, linestyle = ':', \n",
    "                          label = '$E = [50,55]$ EeV', linewidth = 1.5), \n",
    "                   Line2D([0], [0], color = purple, \n",
    "                          label = '$E = [70,75]$ EeV', lw =1.5)] \n",
    "\n",
    "# Colourmaps\n",
    "dp = ListedColormap([purple])\n",
    "lp = ListedColormap([lightpurple])"
   ]
  },
  {
   "cell_type": "code",
   "execution_count": 17,
   "metadata": {
    "ExecuteTime": {
     "end_time": "2019-02-01T13:24:12.944798Z",
     "start_time": "2019-02-01T13:23:16.440433Z"
    }
   },
   "outputs": [
    {
     "data": {
      "image/png": "[encoded data removed]",
      "text/plain": [
       "<Figure size 432x108 with 1 Axes>"
      ]
     },
     "metadata": {},
     "output_type": "display_data"
    }
   ],
   "source": [
    "fig, ax = plt.subplots()\n",
    "fig.set_size_inches((6, 0.25 * 6))\n",
    "\n",
    "# Plot\n",
    "# 50 - 55 EeV\n",
    "sns.kdeplot(z_arr[0], x_arr[0], cmap = lp, bw = [17, 0.7], \n",
    "            n_levels = l50,\n",
    "            alpha = 1, linestyles = ':', linewidths = 1.5, zorder = 2)\n",
    "sns.kdeplot(z_arr[0], x_arr[0], cmap = lp, bw = [17, 0.7],\n",
    "            n_levels = l50, shade = True, alpha = 0.2, zorder = 1)\n",
    "# 70 - 75 EeV\n",
    "sns.kdeplot(z_arr[1], x_arr[1], cmap = dp, bw = [10, .5], \n",
    "            n_levels = l70, alpha = 1, linewidths = 1.5, zorder = 3)\n",
    "sns.kdeplot(z_arr[1], x_arr[1], cmap = dp, bw = [10, .5], n_levels = l70,\n",
    "           shade = True, alpha = 0.5, zorder = 2)\n",
    "\n",
    "# Annotate\n",
    "ax.set_xlabel(r'$z$ / Mpc')\n",
    "ax.set_ylabel(r'$x$ / Mpc')\n",
    "ax.set_title(r'$P(x, z | E)$ - simulation', y = 1.5)\n",
    "ax.set_xlim(0, 400)\n",
    "ax.set_ylim(0, 50)\n",
    "ax.text(30, 42.5, '$B = 1$ nG \\n $\\\\alpha = 2$', fontsize = 16)\n",
    "ax.legend(handles = legend_elements, bbox_to_anchor = (1.1, 1.4));"
   ]
  },
  {
   "cell_type": "markdown",
   "metadata": {},
   "source": [
    "### Figure 5\n",
    "\n",
    "Now compare the results with and without detection effects for a single selected energy range. We plot $50 - 55 \\ \\rm{EeV}$ here, but the procedure is exactly the same for other energy ranges. "
   ]
  },
  {
   "cell_type": "code",
   "execution_count": 18,
   "metadata": {
    "ExecuteTime": {
     "end_time": "2019-02-01T13:25:44.335329Z",
     "start_time": "2019-02-01T13:25:44.313987Z"
    }
   },
   "outputs": [],
   "source": [
    "# Contour levels\n",
    "levels = [0.97, 0.8, 0.6, 0.3, 0.1] # as above\n",
    "l50_det = HPD_contours(z_det[0], x_det[0], levels, 50)\n",
    "\n",
    "# Prepare legend\n",
    "legend_elements = [Line2D([0], [0], color = lightblue, linestyle = '--', \n",
    "                          label = '$\\hat{E}$', linewidth = 1.5),\n",
    "                  Line2D([0], [0], color = darkblue, label = '$E$',linewidth = 1.5)] \n",
    "\n",
    "# Colourmaps\n",
    "lb = ListedColormap([lightblue])\n",
    "db = ListedColormap([darkblue])"
   ]
  },
  {
   "cell_type": "code",
   "execution_count": 19,
   "metadata": {
    "ExecuteTime": {
     "end_time": "2019-02-01T13:27:18.528336Z",
     "start_time": "2019-02-01T13:25:45.314330Z"
    }
   },
   "outputs": [
    {
     "data": {
      "image/png": "[encoded data removed]",
      "text/plain": [
       "<Figure size 432x108 with 1 Axes>"
      ]
     },
     "metadata": {},
     "output_type": "display_data"
    }
   ],
   "source": [
    "fig, ax = plt.subplots()\n",
    "fig.set_size_inches(6, 0.25 * 6)\n",
    "\n",
    "# Plot\n",
    "# Including detection uncertainties\n",
    "sns.kdeplot(z_det[0], x_det[0], cmap = lb, bw = [10., 1.1],\n",
    "            n_levels = l50_det, alpha = 1, linestyles = '--', \n",
    "            linewidths = 1.5, zorder = 2)\n",
    "sns.kdeplot(z_det[0], x_det[0], cmap = lb, bw = [10., 1.1], \n",
    "            n_levels = l50_det, shade = True, alpha = 0.3, zorder = 1)\n",
    "# Ignoring detection uncertainties\n",
    "sns.kdeplot(z_arr[0], x_arr[0], cmap = db, bw = [17., .7],\n",
    "            n_levels = l50, alpha = 1, linewidths = 1.5, zorder = 3)\n",
    "sns.kdeplot(z_arr[0], x_arr[0], cmap = db, bw = [17., .7],\n",
    "            n_levels = l50, shade = True, alpha = 0.3, zorder = 2)\n",
    "\n",
    "# Annotate\n",
    "ax.set_xlabel('$z$ / Mpc')\n",
    "ax.set_ylabel(r'$x$ / Mpc')\n",
    "ax.set_title(r'$P(x, z |\\hat{E})$', y = 1.4)\n",
    "ax.set_xlim(0, 400)\n",
    "ax.set_ylim(0, 50)\n",
    "ax.text(20, 47.5, '$\\hat{E} = [50,55]$ EeV', fontsize = 16)\n",
    "ax.legend(handles = legend_elements, bbox_to_anchor = (1., 1.45));"
   ]
  }
 ],
 "metadata": {
  "kernelspec": {
   "display_name": "Python (bayes)",
   "language": "python",
   "name": "bayes"
  },
  "language_info": {
   "codemirror_mode": {
    "name": "ipython",
    "version": 3
   },
   "file_extension": ".py",
   "mimetype": "text/x-python",
   "name": "python",
   "nbconvert_exporter": "python",
   "pygments_lexer": "ipython3",
   "version": "3.6.4"
  }
 },
 "nbformat": 4,
 "nbformat_minor": 2
}
