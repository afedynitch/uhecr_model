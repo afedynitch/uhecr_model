{
 "cells": [
  {
   "cell_type": "markdown",
   "metadata": {},
   "source": [
    "# $P(< D | E > E_\\rm{th})$\n",
    "The probability that a UHECR is detected from within a distance $D$, given that it is detected with an energy $\\hat{E} > E_\\rm{th}$. Both cases including and excluding the typical detection uncertainties for the UHECR energies.  \n",
    "<br>\n",
    "<br>\n",
    "*This code was used to make Figure 3 in Capel & Mortlock (2019).*\n"
   ]
  },
  {
   "cell_type": "code",
   "execution_count": 1,
   "metadata": {
    "ExecuteTime": {
     "end_time": "2019-02-01T13:04:03.618117Z",
     "start_time": "2019-02-01T13:04:03.105442Z"
    }
   },
   "outputs": [
    {
     "name": "stderr",
     "output_type": "stream",
     "text": [
      "/Users/fran/projects/bayes/lib/python3.6/site-packages/h5py/__init__.py:36: FutureWarning: Conversion of the second argument of issubdtype from `float` to `np.floating` is deprecated. In future, it will be treated as `np.float64 == np.dtype(float).type`.\n",
      "  from ._conv import register_converters as _register_converters\n"
     ]
    }
   ],
   "source": [
    "import numpy as np\n",
    "from scipy import integrate\n",
    "import h5py\n",
    "\n",
    "from matplotlib import pyplot as plt\n",
    "plt.style.use(['minimalist', 'blues'])"
   ]
  },
  {
   "cell_type": "markdown",
   "metadata": {},
   "source": [
    "## Simulating the cosmic ray propagation\n",
    "\n",
    "In order to show the effect of including the detection uncertainties on the effective GZK horizon, we use the simple model for the propagation of protons as described in the paper. In this way, the results are directly relevant for the model which is later used to fit the data.\n",
    "\n",
    "To find $P(< D | E > E_\\rm{th})$ we use Bayes theorem to express this in terms of something that we can calculate through simulations. We have\n",
    "\n",
    "$$\n",
    "P(< D | E > E_\\rm{th}) = \\int_0^{D} dD' \\ P(D' | E > E_\\rm{th}),\n",
    "$$\n",
    "where\n",
    "$$\n",
    "P(D | E > E_\\rm{th}) \\propto P(D) \\ P(E > E_\\rm{th} | D).\n",
    "$$\n",
    "\n",
    "We calculate $P(E > E_\\rm{th} | D)$ and $P(\\hat{E} > E_\\rm{th} | D)$ using simulations. The same <tt>Stan</tt> code as is used in the main model (see `uhecr_E_loss.stan`) is used for consistency and a python script using <tt>MPI</tt> (see `uhecr_E_loss.py`) is used to run many simulations in parallel on HPC services. These scripts can be rerun, but we include the output used in the paper as an hdf5 file (see `simulation_output/`) to show the results here.\n",
    "<br>\n",
    "<br>\n",
    "The script was run with the following parameters:\n",
    "* $\\alpha = 2$\n",
    "* $E_\\rm{th}^\\rm{sim} = 20 \\ \\rm{EeV}$\n",
    "* $E_\\rm{th} = 52 \\ \\rm{EeV}$\n",
    "\n",
    "We simulate down to $E_\\rm{th}^\\rm{sim} = 20 \\ \\rm{EeV}$ in order to account for lower energy UHECR events being scattered above the detection threshold by the detection process. "
   ]
  },
  {
   "cell_type": "code",
   "execution_count": 2,
   "metadata": {
    "ExecuteTime": {
     "end_time": "2019-02-01T13:04:04.036640Z",
     "start_time": "2019-02-01T13:04:04.033694Z"
    }
   },
   "outputs": [],
   "source": [
    "# Run the simulation script (command line)\n",
    "# $ mpirun -n XX python uhecr_E_losses.py"
   ]
  },
  {
   "cell_type": "markdown",
   "metadata": {},
   "source": [
    "## Read simulation ouput"
   ]
  },
  {
   "cell_type": "code",
   "execution_count": 3,
   "metadata": {
    "ExecuteTime": {
     "end_time": "2019-02-01T13:04:04.947635Z",
     "start_time": "2019-02-01T13:04:04.930302Z"
    },
    "scrolled": true
   },
   "outputs": [],
   "source": [
    "# Simulation inputs and outputs are stored in the same file\n",
    "with h5py.File('output/paper_uhecr_E_loss_output.h5', 'r') as f:\n",
    "\n",
    "    # inputs (to check)\n",
    "    Eth = f['Eth'].value\n",
    "    Eth_sim = f['Eth_sim'].value\n",
    "    alpha = f['alpha'].value\n",
    "    Ds = f['Ds']\n",
    "    Ncr = f['Ncr'].value\n",
    "    Ntrials = f['Ntrials'].value\n",
    "    f_E = f['f_E'].value\n",
    "    \n",
    "    # Results\n",
    "    Parr = f['Parr'].value # arrival energy > Eth\n",
    "    Pdet = f['Pdet'].value # detected energy > Eth\n",
    "    D = f['D'].value"
   ]
  },
  {
   "cell_type": "code",
   "execution_count": 4,
   "metadata": {
    "ExecuteTime": {
     "end_time": "2019-02-01T13:04:06.547844Z",
     "start_time": "2019-02-01T13:04:05.360897Z"
    }
   },
   "outputs": [
    {
     "data": {
      "image/png": "[encoded data removed]",
      "text/plain": [
       "<Figure size 432x360 with 1 Axes>"
      ]
     },
     "metadata": {},
     "output_type": "display_data"
    }
   ],
   "source": [
    "# Plot to show\n",
    "fig, ax = plt.subplots()\n",
    "fig.set_size_inches((6, 5))\n",
    "ax.plot(D, Parr, label = '$E$')\n",
    "ax.plot(D, Pdet, label = '$\\hat{E}$')\n",
    "ax.set_ylim(0)\n",
    "ax.set_xlabel('D / Mpc')\n",
    "ax.set_ylabel('$P(E > E_\\mathrm{th} | D)$')\n",
    "ax.legend();"
   ]
  },
  {
   "cell_type": "markdown",
   "metadata": {},
   "source": [
    "## Find $P(< D | E > E_\\rm{th})$"
   ]
  },
  {
   "cell_type": "code",
   "execution_count": 5,
   "metadata": {
    "ExecuteTime": {
     "end_time": "2019-02-01T13:04:06.560240Z",
     "start_time": "2019-02-01T13:04:06.550288Z"
    }
   },
   "outputs": [],
   "source": [
    "P_E_D = Parr \n",
    "P_Edet_D = Pdet \n",
    "\n",
    "# Bayes rule (P(D) ~ D^2)\n",
    "P_D_E = D**2 * P_E_D\n",
    "P_D_Edet = D**2 * P_Edet_D\n",
    "\n",
    "# Normalisation\n",
    "P_D_E = P_D_E / integrate.simps(P_D_E, D)\n",
    "P_D_Edet = P_D_Edet / integrate.simps(P_D_Edet, D)\n",
    "\n",
    "# Cumulative distribution\n",
    "c_P_D_E = integrate.cumtrapz(P_D_E, D, initial = 0)\n",
    "c_P_D_Edet = integrate.cumtrapz(P_D_Edet, D, initial = 0)"
   ]
  },
  {
   "cell_type": "markdown",
   "metadata": {},
   "source": [
    "## Figure 3"
   ]
  },
  {
   "cell_type": "code",
   "execution_count": 6,
   "metadata": {
    "ExecuteTime": {
     "end_time": "2019-02-01T13:04:11.232697Z",
     "start_time": "2019-02-01T13:04:09.029399Z"
    }
   },
   "outputs": [
    {
     "name": "stderr",
     "output_type": "stream",
     "text": [
      "/Users/fran/projects/bayes/lib/python3.6/site-packages/tqdm/autonotebook/__init__.py:14: TqdmExperimentalWarning: Using `tqdm.autonotebook.tqdm` in notebook mode. Use `tqdm.tqdm` instead to force console mode (e.g. in jupyter console)\n",
      "  \" (e.g. in jupyter console)\", TqdmExperimentalWarning)\n"
     ]
    },
    {
     "data": {
      "image/png": "[encoded data removed]",
      "text/plain": [
       "<Figure size 432x360 with 1 Axes>"
      ]
     },
     "metadata": {},
     "output_type": "display_data"
    }
   ],
   "source": [
    "from fancy.plotting.colours import darkgrey\n",
    "\n",
    "fig, ax = plt.subplots()\n",
    "fig.set_size_inches(6, 5)\n",
    "\n",
    "ax.plot(D, c_P_D_E, label = '$E$')\n",
    "ax.plot(D, c_P_D_Edet, label = '$\\hat{E}$', linestyle = '--')\n",
    "ax.axhline(0.9, color = darkgrey, linestyle = ':')\n",
    "\n",
    "ax.set_ylim(0, 1.01)\n",
    "ax.set_xlabel('D / Mpc')\n",
    "ax.set_ylabel('$P(< D | \\hat{E} > E_\\mathrm{th})$')\n",
    "ax.text(250, 0.5, '$E_\\mathrm{th} = 52$ EeV \\n $\\\\alpha = 2$', fontsize = 16)\n",
    "ax.legend();"
   ]
  }
 ],
 "metadata": {
  "kernelspec": {
   "display_name": "Python (bayes)",
   "language": "python",
   "name": "bayes"
  },
  "language_info": {
   "codemirror_mode": {
    "name": "ipython",
    "version": 3
   },
   "file_extension": ".py",
   "mimetype": "text/x-python",
   "name": "python",
   "nbconvert_exporter": "python",
   "pygments_lexer": "ipython3",
   "version": "3.6.4"
  }
 },
 "nbformat": 4,
 "nbformat_minor": 2
}
