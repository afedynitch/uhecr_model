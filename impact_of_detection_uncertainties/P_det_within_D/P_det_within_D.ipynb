{
 "cells": [
  {
   "cell_type": "markdown",
   "metadata": {},
   "source": [
    "# $P(< D | E > E_\\rm{th})$\n",
    "The probability that a UHECR is detected from within a distance $D$, given that it is detected with an energy $\\hat{E} > E_\\rm{th}$. Both cases including and excluding the typical detection uncertainties for the UHECR energies.  \n",
    "<br>\n",
    "<br>\n",
    "*This code was used to make Figure 3 in Capel & Mortlock (2019).*\n"
   ]
  },
  {
   "cell_type": "code",
   "execution_count": 1,
   "metadata": {
    "ExecuteTime": {
     "end_time": "2019-01-21T19:26:03.600728Z",
     "start_time": "2019-01-21T19:26:03.227842Z"
    }
   },
   "outputs": [
    {
     "name": "stderr",
     "output_type": "stream",
     "text": [
      "/Users/fran/projects/bayes/lib/python3.6/site-packages/h5py/__init__.py:36: FutureWarning: Conversion of the second argument of issubdtype from `float` to `np.floating` is deprecated. In future, it will be treated as `np.float64 == np.dtype(float).type`.\n",
      "  from ._conv import register_converters as _register_converters\n"
     ]
    }
   ],
   "source": [
    "from matplotlib import pyplot as plt\n",
    "import h5py\n",
    "import numpy as np"
   ]
  },
  {
   "cell_type": "markdown",
   "metadata": {},
   "source": [
    "## Simulating the cosmic ray propagation\n",
    "\n",
    "In order to show the effect of including the detection uncertainties on the effective GZK horizon, we use the simple model for the propagation of protons as described in the paper. In this way, the results are directly relevant for the model which is later used to fit the data.\n",
    "\n",
    "To find $P(< D | E > E_\\rm{th})$ we use Bayes theorem to express this in terms of something that we can calculate through simulations. We have\n",
    "\n",
    "$$\n",
    "P(< D | E > E_\\rm{th}) = \\int_0^{D} dD' \\ P(D' | E > E_\\rm{th}),\n",
    "$$\n",
    "where\n",
    "$$\n",
    "P(D | E > E_\\rm{th}) \\propto P(D) \\ P(E > E_\\rm{th} | D).\n",
    "$$\n",
    "\n",
    "We calculate $P(E > E_\\rm{th} | D)$ and $P(\\hat{E} > E_\\rm{th} | D)$ using simulations. The same <tt>Stan</tt> code as is used in the main model (see `uhecr_E_loss.stan`) is used for consistency and a python script using <tt>MPI</tt> (see `uhecr_E_loss.py`) is used to run many simulations in parallel on HPC services. These scripts can be rerun, but we include the output used in the paper as an hdf5 file (see `simulation_output/`) to show the results here.\n",
    "<br>\n",
    "<br>\n",
    "The script was run with the following parameters:\n",
    "* $\\alpha = 2$\n",
    "* $E_\\rm{th}^\\rm{sim} = 20 \\ \\rm{EeV}$\n",
    "* $E_\\rm{th} = 52 \\ \\rm{EeV}$\n",
    "\n",
    "We simulate down to $E_\\rm{th}^\\rm{sim} = 20 \\ \\rm{EeV}$ in order to account for lower energy UHECR events being scattered above the detection threshold by the detection process. "
   ]
  },
  {
   "cell_type": "code",
   "execution_count": 2,
   "metadata": {
    "ExecuteTime": {
     "end_time": "2019-01-21T19:26:05.654066Z",
     "start_time": "2019-01-21T19:26:05.651595Z"
    }
   },
   "outputs": [],
   "source": [
    "# Run the simulation script (command line)\n",
    "# $ mpirun -n XX python uhecr_E_losses.py"
   ]
  },
  {
   "cell_type": "markdown",
   "metadata": {},
   "source": [
    "## Read simulation ouput"
   ]
  },
  {
   "cell_type": "code",
   "execution_count": null,
   "metadata": {
    "ExecuteTime": {
     "end_time": "2019-01-21T19:25:53.935590Z",
     "start_time": "2019-01-21T19:25:53.785920Z"
    }
   },
   "outputs": [],
   "source": [
    "# Stuff to be moved into a style sheet\n",
    "import seaborn as sns\n",
    "\n",
    "sns.set(font = 'serif', style = 'ticks', font_scale = 1.5)\n",
    "plt.rcParams[\"mathtext.fontset\"] = \"dejavuserif\"\n",
    "font = {'family' : 'serif'} # for legend\n",
    "sns.despine()\n",
    "# also: remove frame form legend"
   ]
  },
  {
   "cell_type": "code",
   "execution_count": 3,
   "metadata": {
    "ExecuteTime": {
     "end_time": "2019-01-21T19:26:08.917937Z",
     "start_time": "2019-01-21T19:26:08.395202Z"
    },
    "scrolled": true
   },
   "outputs": [
    {
     "data": {
      "text/plain": [
       "<matplotlib.legend.Legend at 0x1127aefd0>"
      ]
     },
     "execution_count": 3,
     "metadata": {},
     "output_type": "execute_result"
    },
    {
     "data": {
      "image/png": "[encoded data removed]",
      "text/plain": [
       "<Figure size 720x360 with 1 Axes>"
      ]
     },
     "metadata": {},
     "output_type": "display_data"
    }
   ],
   "source": [
    "# read results\n",
    "#with h5py.File('data/gzk_study_v4.hdf5', 'r') as f:\n",
    "with h5py.File('simulation_output/my_uhecr_E_loss_output.hdf5', 'r') as f:\n",
    "    Pdet = f['Pdet'].value\n",
    "    Parr = f['Parr'].value\n",
    "    D = f['D'].value\n",
    "\n",
    "plt.figure(figsize = (10, 5))\n",
    "plt.plot(D, Parr, label = '$E}$', lw = 4, alpha = 0.9, color = '#13a5a5')\n",
    "plt.plot(D, Pdet, label = '$\\hat{E}$', lw = 4, alpha = 0.9, color = '#A02967')\n",
    "#plt.vlines(250, 0, 1, linestyle = '--', lw = 2, alpha = 0.7)\n",
    "plt.xlabel('D / Mpc')\n",
    "plt.ylabel('$P(E > E_\\mathrm{th} | D)$')\n",
    "#plt.xlim(0, 400)\n",
    "#plt.ylim(0., 1)\n",
    "\n",
    "plt.legend()"
   ]
  },
  {
   "cell_type": "code",
   "execution_count": 4,
   "metadata": {
    "ExecuteTime": {
     "end_time": "2019-01-21T19:27:26.972507Z",
     "start_time": "2019-01-21T19:27:26.784088Z"
    }
   },
   "outputs": [
    {
     "name": "stdout",
     "output_type": "stream",
     "text": [
      "0.0002630167004652984\n",
      "0.00037453574400859855\n"
     ]
    }
   ],
   "source": [
    "# At D = 0\n",
    "from scipy import integrate\n",
    "from scipy.special import erf\n",
    "def func(E, Emin, Eth,  Eerr, alpha):\n",
    "    return ((alpha - 1) / Emin) * (Emin / E)**alpha * 0.5 * ( 1 - erf(  (Eth - E) / ( np.sqrt(2) * Eerr * E )  )  )  \n",
    "    \n",
    "Eth = 52\n",
    "Eerr = 0.2\n",
    "Emin = 10\n",
    "alpha = 6\n",
    "integ0, err = integrate.quad(func, Emin, np.inf, args = (Emin, Eth, 0.0001, alpha))\n",
    "integ, err = integrate.quad(func, Emin, np.inf, args = (Emin, Eth, Eerr, alpha))\n",
    "#print(integ0/integ, err)\n",
    "print(integ0)\n",
    "print(integ)"
   ]
  },
  {
   "cell_type": "code",
   "execution_count": 5,
   "metadata": {
    "ExecuteTime": {
     "end_time": "2019-01-21T19:27:27.978586Z",
     "start_time": "2019-01-21T19:27:27.964718Z"
    }
   },
   "outputs": [],
   "source": [
    "from scipy import integrate\n",
    "\n",
    "P_E_D = Parr \n",
    "P_Edet_D = Pdet \n",
    "\n",
    "# Bayes rule\n",
    "P_D_E = D**2 * P_E_D\n",
    "P_D_Edet = D**2 * P_Edet_D\n",
    "\n",
    "# normalise\n",
    "normA = integrate.simps(P_D_E, D)\n",
    "normB = integrate.simps(P_D_Edet, D)\n",
    "P_D_E = P_D_E / normA\n",
    "P_D_Edet = P_D_Edet / normB\n",
    "\n",
    "# cumulative\n",
    "cum_P_D_E = integrate.cumtrapz(P_D_E, D, initial = 0)\n",
    "cum_P_D_Edet = integrate.cumtrapz(P_D_Edet, D, initial = 0)"
   ]
  },
  {
   "cell_type": "code",
   "execution_count": 7,
   "metadata": {
    "ExecuteTime": {
     "end_time": "2019-01-21T19:27:39.584339Z",
     "start_time": "2019-01-21T19:27:39.374733Z"
    }
   },
   "outputs": [
    {
     "data": {
      "text/plain": [
       "Text(0.5,0,'D / Mpc')"
      ]
     },
     "execution_count": 7,
     "metadata": {},
     "output_type": "execute_result"
    },
    {
     "data": {
      "image/png": "[encoded data removed]",
      "text/plain": [
       "<Figure size 432x360 with 1 Axes>"
      ]
     },
     "metadata": {},
     "output_type": "display_data"
    }
   ],
   "source": [
    "plt.figure(figsize = (6, 5))\n",
    "plt.plot(D, cum_P_D_E, label = '$E$', color = '#13A5A5', lw = 3)\n",
    "plt.plot(D, cum_P_D_Edet, label = '$\\hat{E}$', color = '#A02967', lw = 3)\n",
    "plt.legend(frameon = False)\n",
    "#plt.axvline(250, linestyle = '--', color = 'k', alpha = 0.5)\n",
    "#plt.axhline(0.7, linestyle = '--', color = 'k', alpha = 0.5)\n",
    "#plt.xlim(0, 400)\n",
    "#plt.ylim(0, 1.1)\n",
    "plt.xlabel('D / Mpc')\n",
    "#plt.ylabel('$\\int_0^D \\mathrm{d}D\\' \\ P(D\\' | E > E_\\mathrm{th})$')"
   ]
  },
  {
   "cell_type": "code",
   "execution_count": null,
   "metadata": {},
   "outputs": [],
   "source": []
  }
 ],
 "metadata": {
  "kernelspec": {
   "display_name": "Python (bayes)",
   "language": "python",
   "name": "bayes"
  },
  "language_info": {
   "codemirror_mode": {
    "name": "ipython",
    "version": 3
   },
   "file_extension": ".py",
   "mimetype": "text/x-python",
   "name": "python",
   "nbconvert_exporter": "python",
   "pygments_lexer": "ipython3",
   "version": "3.6.4"
  }
 },
 "nbformat": 4,
 "nbformat_minor": 2
}
