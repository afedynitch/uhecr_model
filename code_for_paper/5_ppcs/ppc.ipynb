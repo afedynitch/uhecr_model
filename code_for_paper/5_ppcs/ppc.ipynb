{
 "cells": [
  {
   "cell_type": "markdown",
   "metadata": {},
   "source": [
    "# Posterior predictive checks\n",
    "\n",
    "See Appendix C for explanation. Here we calculate the case for the fit to the joint simulation in `arrival_vs_joint/`, but the procedure is the same for the fits to data.\n",
    "<br>\n",
    "<br>\n",
    "*This code is used to produce the data displayed in Figure C1 of Capel & Mortlock (2019.*"
   ]
  },
  {
   "cell_type": "code",
   "execution_count": 6,
   "metadata": {
    "ExecuteTime": {
     "end_time": "2019-01-31T16:50:16.768162Z",
     "start_time": "2019-01-31T16:50:16.764930Z"
    }
   },
   "outputs": [],
   "source": [
    "import stan_utility\n",
    "import sys\n",
    "sys.path.append('../../../fancy')\n",
    "from fancy import Results"
   ]
  },
  {
   "cell_type": "code",
   "execution_count": 5,
   "metadata": {
    "ExecuteTime": {
     "end_time": "2019-01-31T16:49:41.601164Z",
     "start_time": "2019-01-31T16:49:41.594689Z"
    }
   },
   "outputs": [],
   "source": [
    "# Define the fit file\n",
    "sim_fit_file = '../3_fits_to_simulations/arrival_vs_joint/output/joint_fit.h5'\n",
    "results = Results(sim_fit_file)\n",
    "\n",
    "# Define the Stan model for PPCs\n",
    "stan_path = '../../stan/'\n",
    "ppc_sim = stan_path + 'joint_model_ppc.stan'\n",
    "\n",
    "# Define the output file\n",
    "ppc_output = 'output/ppc.h5'"
   ]
  },
  {
   "cell_type": "code",
   "execution_count": 11,
   "metadata": {
    "ExecuteTime": {
     "end_time": "2019-01-31T16:52:48.467709Z",
     "start_time": "2019-01-31T16:52:48.455406Z"
    }
   },
   "outputs": [
    {
     "name": "stdout",
     "output_type": "stream",
     "text": [
      "Using cached StanModel\n"
     ]
    }
   ],
   "source": [
    "# Compile the Stan model\n",
    "stan_utility.compile_model(filename = ppc_sim, model_name = 'ppc', \n",
    "                           include_paths = stan_path);"
   ]
  },
  {
   "cell_type": "code",
   "execution_count": 12,
   "metadata": {
    "ExecuteTime": {
     "end_time": "2019-01-31T16:54:19.347775Z",
     "start_time": "2019-01-31T16:54:19.345133Z"
    }
   },
   "outputs": [],
   "source": [
    "# TO DO: UPDATE RESULTS.GET_INPUT_DATA TO RUN NEW FILE FORMAT"
   ]
  },
  {
   "cell_type": "code",
   "execution_count": null,
   "metadata": {},
   "outputs": [],
   "source": [
    "results.run_ppc(ppc_sim, stan_path, N = 2)\n",
    "results.ppc.save(ppc_output)"
   ]
  }
 ],
 "metadata": {
  "kernelspec": {
   "display_name": "Python (bayes)",
   "language": "python",
   "name": "bayes"
  },
  "language_info": {
   "codemirror_mode": {
    "name": "ipython",
    "version": 3
   },
   "file_extension": ".py",
   "mimetype": "text/x-python",
   "name": "python",
   "nbconvert_exporter": "python",
   "pygments_lexer": "ipython3",
   "version": "3.6.4"
  }
 },
 "nbformat": 4,
 "nbformat_minor": 2
}
