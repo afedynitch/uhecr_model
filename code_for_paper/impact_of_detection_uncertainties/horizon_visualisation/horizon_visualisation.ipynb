{
 "cells": [
  {
   "cell_type": "markdown",
   "metadata": {},
   "source": [
    "# GZK horizon visualisation\n",
    "\n",
    "Assuming the continuous loss approximation for UHE proton propagation and typical detection uncertainties described in the paper, we can try to visualise what this means. We have a kind of *effective GZK horizon* for each particle, depending on its energy and the detection uncertainties. See Section 2.6 for details. We want to be able to plot the following:\n",
    "\n",
    "$$\n",
    "P(x, z | E, \\omega, \\rm{detected}),\n",
    "$$\n",
    "i.e. where the UHECR could have come from if we detect it with energy $E$ and direction $\\omega$.\n",
    "<br>\n",
    "<br>\n",
    "*This code was used to make Figures 4 and 5 in Capel & Mortlock (2019).*"
   ]
  },
  {
   "cell_type": "code",
   "execution_count": 12,
   "metadata": {
    "ExecuteTime": {
     "end_time": "2019-01-22T19:14:45.144154Z",
     "start_time": "2019-01-22T19:14:45.134160Z"
    }
   },
   "outputs": [],
   "source": [
    "import numpy as np\n",
    "import h5py\n",
    "from scipy import interpolate\n",
    "\n",
    "import stan_utility\n",
    "from fancy.propagation.energy_loss import get_Eth_src\n",
    "from horizon_visualisation import P_x_z, HPD_contours"
   ]
  },
  {
   "cell_type": "code",
   "execution_count": 26,
   "metadata": {
    "ExecuteTime": {
     "end_time": "2019-01-22T19:39:53.864584Z",
     "start_time": "2019-01-22T19:39:53.853906Z"
    }
   },
   "outputs": [],
   "source": [
    "from matplotlib import pyplot as plt\n",
    "from matplotlib.lines import Line2D\n",
    "from matplotlib.colors import ListedColormap\n",
    "plt.style.use(['minimalist'])\n",
    "plt.style.use(['minimalist']) # to match paper style\n",
    "\n",
    "# Colours\n",
    "darkblue = '#114A56'\n",
    "midblue = '#1A7282'\n",
    "lightblue = '#6DA5AF'\n",
    "lightpurple = '#875F74'\n",
    "purple = '#592441'"
   ]
  },
  {
   "cell_type": "markdown",
   "metadata": {},
   "source": [
    "## Calculation\n",
    "\n",
    "If we **ignore detection uncertainties**, it is possible to find an analytical expression for the above probability (see Equation 13). We plot this here by interpolating over a precomputed grid of values. "
   ]
  },
  {
   "cell_type": "markdown",
   "metadata": {},
   "source": [
    "### Precomputing $E_\\rm{src}$ and $E_\\rm{arr}$\n",
    "These cells show how the files in `output/` have been computed. These computations can be re-run, but the output files are also provided with this code, so it is possible to skip ahead to the next subsection. "
   ]
  },
  {
   "cell_type": "code",
   "execution_count": null,
   "metadata": {
    "ExecuteTime": {
     "end_time": "2019-01-22T17:58:36.453592Z",
     "start_time": "2019-01-22T17:49:47.567586Z"
    }
   },
   "outputs": [],
   "source": [
    "# Select representative energies\n",
    "selected_E = [50, 70] # EeV\n",
    "\n",
    "# Precompute the equivalent source energies \n",
    "# for a range of propagation distances\n",
    "# (this takes a while... ~10 min)\n",
    "D = np.linspace(0, 500, 100) # Mpc\n",
    "Esrc = [get_Eth_src(E, D) for E in selected_E] # EeV\n",
    "\n",
    "# Write to a file to save time in future \n",
    "with h5py.File('output/precomp_Esrc.h5', 'w') as f:\n",
    "    f.create_dataset('selected_E', data = selected_E)\n",
    "    f.create_dataset('Esrc', data = Esrc)\n",
    "    f.create_dataset('D', data = D)"
   ]
  },
  {
   "cell_type": "code",
   "execution_count": null,
   "metadata": {},
   "outputs": [],
   "source": [
    "# We also want to calculate the arrival energies \n",
    "# for a range of source energies and distances.\n",
    "# This is done with an MPI script on XX cores.\n",
    "# $ mpirun -n XX python precomp_Earr.py"
   ]
  },
  {
   "cell_type": "markdown",
   "metadata": {},
   "source": [
    "### Read precomputed values"
   ]
  },
  {
   "cell_type": "code",
   "execution_count": 2,
   "metadata": {
    "ExecuteTime": {
     "end_time": "2019-01-22T19:11:03.631573Z",
     "start_time": "2019-01-22T19:11:03.619845Z"
    }
   },
   "outputs": [],
   "source": [
    "with h5py.File('output/precomp_Esrc.h5', 'r') as f:\n",
    "    D = f['D'].value\n",
    "    Esrc = f['Esrc'].value\n",
    "    \n",
    "with h5py.File('output/precomp_Earr.h5', 'r') as f:\n",
    "    Earr_grid = f['Earr_grid'].value\n",
    "    D_grid = f['D_grid'].value\n",
    "    E_grid = f['E_grid'].value"
   ]
  },
  {
   "cell_type": "markdown",
   "metadata": {},
   "source": [
    "### Figure 4 (top panel)\n",
    "\n",
    "For calculation, see `horizon_visualisation.py`."
   ]
  },
  {
   "cell_type": "code",
   "execution_count": 6,
   "metadata": {
    "ExecuteTime": {
     "end_time": "2019-01-22T19:11:26.953420Z",
     "start_time": "2019-01-22T19:11:26.949659Z"
    }
   },
   "outputs": [],
   "source": [
    "# Set parameters\n",
    "alpha = 2\n",
    "B = 1 # nG\n",
    "\n",
    "# Unpack for readability \n",
    "Esrc_50 = Esrc[0]\n",
    "Esrc_70 = Esrc[1]"
   ]
  },
  {
   "cell_type": "code",
   "execution_count": 7,
   "metadata": {
    "ExecuteTime": {
     "end_time": "2019-01-22T19:11:39.875219Z",
     "start_time": "2019-01-22T19:11:30.578729Z"
    }
   },
   "outputs": [],
   "source": [
    "# Calculate P(x, z | E omega) on a meshgrid of x, z\n",
    "# Takes ~ 10s\n",
    "xl = np.linspace(0, 100, 300) # Mpc\n",
    "zl = np.linspace(0, 400, 300) # Mpc\n",
    "z, x = np.meshgrid(zl, xl)\n",
    "\n",
    "P_x_z_50 = P_x_z(z, x, Esrc_50, D_grid, E_grid, Earr_grid, B, alpha)\n",
    "P_x_z_70 = P_x_z(z, x, Esrc_70, D_grid, E_grid, Earr_grid, B, alpha)"
   ]
  },
  {
   "cell_type": "code",
   "execution_count": 22,
   "metadata": {
    "ExecuteTime": {
     "end_time": "2019-01-22T19:27:06.961665Z",
     "start_time": "2019-01-22T19:27:05.505069Z"
    }
   },
   "outputs": [],
   "source": [
    "# Get HPD contours or tail regions to show shape\n",
    "levels = [0.99999, 0.99995, 0.9999, 0.999]\n",
    "l50 = HPD_contours(np.nan_to_num(P_x_z_50), levels)\n",
    "levels = [0.99997, 0.9999, .9995, 0.999]\n",
    "l70 = HPD_contours(np.nan_to_num(P_x_z_70), levels)\n",
    "\n",
    "# Prepare legend\n",
    "legend_elements = [Line2D([0], [0], color = lightpurple, linestyle = ':', \n",
    "                          label = '$E = 50$ EeV', linewidth = 1.5), \n",
    "                  Line2D([0], [0], color = purple, label = '$E = 70$ EeV', \n",
    "                         linewidth = 1.5)]"
   ]
  },
  {
   "cell_type": "code",
   "execution_count": 25,
   "metadata": {
    "ExecuteTime": {
     "end_time": "2019-01-22T19:28:21.578278Z",
     "start_time": "2019-01-22T19:28:21.360196Z"
    },
    "scrolled": true
   },
   "outputs": [
    {
     "data": {
      "image/png": "[encoded data removed]",
      "text/plain": [
       "<Figure size 432x108 with 1 Axes>"
      ]
     },
     "metadata": {},
     "output_type": "display_data"
    }
   ],
   "source": [
    "# Plot \n",
    "fig, ax = plt.subplots()\n",
    "fig.set_size_inches((6, 0.25 * 6)) # hold aspect ratio\n",
    "\n",
    "# Contour plots\n",
    "ax.contour(zl, xl, P_x_z_70, l70, colors = purple, linewidths = 1.5, zorder = 3)\n",
    "ax.contour(zl, xl, P_x_z_50, l50, colors = lightpurple, \n",
    "           linewidths = 1.5, linestyles = ':', zorder = 2)\n",
    "ax.contourf(z, x, P_x_z_70, l70, extend = 'max', \n",
    "             alpha = 0.5, colors = purple, zorder = 3)\n",
    "ax.contourf(z, x, P_x_z_50, l50, extend = 'max', \n",
    "             alpha = 0.2, colors = lightpurple, zorder = 2)\n",
    "\n",
    "# Annotation\n",
    "ax.set_ylabel(r'$x$ / Mpc')\n",
    "ax.set_title(r'$P(x, z | E)$ - calculation', y = 1.4)\n",
    "ax.set_xlim(0, 400)\n",
    "ax.set_ylim(0, 50)\n",
    "ax.text(30, 42.5, \n",
    "         '$B = 1$ nG \\n $\\\\alpha = 2$', fontsize = 16)\n",
    "ax.legend(handles = legend_elements, bbox_to_anchor = (1.1, 1.4));"
   ]
  },
  {
   "cell_type": "markdown",
   "metadata": {},
   "source": [
    "## Simulation\n",
    "\n",
    "In order to **include the detection uncertainties**, we run a simulation of the UHECR propagation. For consistency, we use the same <tt>Stan</tt> functions that are called in the fit (see `stan/uhecr_propagation.stan`).    "
   ]
  },
  {
   "cell_type": "code",
   "execution_count": null,
   "metadata": {
    "ExecuteTime": {
     "end_time": "2018-11-19T13:00:54.344666Z",
     "start_time": "2018-11-19T13:00:54.324022Z"
    }
   },
   "outputs": [],
   "source": [
    "model = stan_utility.compile_model('../stan/horizon_visualisation.stan', include_paths = '../../../stan/')"
   ]
  },
  {
   "cell_type": "code",
   "execution_count": null,
   "metadata": {
    "ExecuteTime": {
     "end_time": "2018-11-19T13:00:58.691786Z",
     "start_time": "2018-11-19T13:00:55.108291Z"
    }
   },
   "outputs": [],
   "source": [
    "inputs = {'varpi' : [0, 0, 1], \n",
    "          'alpha' : 2, \n",
    "          'Eth' : 20, \n",
    "          'Eerr' : 0.12, # import from fancy.Auger\n",
    "          'N' : int(1E2), \n",
    "          'B' : 1, \n",
    "          'kappa_c' : 9000} # change to value quoted in paper? import from fancy/Auger?\n",
    "\n",
    "simulation = model.sampling(data = inputs, iter = 1, chains = 1, \n",
    "                            algorithm = \"Fixed_param\", seed = 19920715)"
   ]
  },
  {
   "cell_type": "code",
   "execution_count": null,
   "metadata": {
    "ExecuteTime": {
     "end_time": "2018-11-19T13:01:52.765011Z",
     "start_time": "2018-11-19T13:01:52.756337Z"
    }
   },
   "outputs": [],
   "source": [
    "from utils.stan_extract import fast_extract # should now be in \n",
    "N = 100\n",
    "spec = {'omega' : (N, 3), 'omega_det' : (N, 3), \n",
    "        'E' : N, 'kappa' : N, 'Earr' : N, 'Edet' : N, 'Eth_src' : N, \n",
    "        'D' : N, 'D_in' : (N, 1) }\n",
    "\n",
    "chain = fast_extract(simulation, spec)"
   ]
  },
  {
   "cell_type": "code",
   "execution_count": null,
   "metadata": {
    "ExecuteTime": {
     "end_time": "2018-11-03T09:33:42.263593Z",
     "start_time": "2018-11-03T09:33:42.260147Z"
    }
   },
   "outputs": [],
   "source": [
    "#omega = simulation.extract(['omega'])['omega'][0]\n",
    "#omega_det = simulation.extract(['omega_det'])['omega_det'][0]\n",
    "#Earr = simulation.extract(['Earr'])['Earr'][0]\n",
    "#Edet = simulation.extract(['Edet'])['Edet'][0]\n",
    "#D = simulation.extract(['D'])['D'][0]"
   ]
  },
  {
   "cell_type": "code",
   "execution_count": null,
   "metadata": {
    "ExecuteTime": {
     "end_time": "2018-11-03T09:33:50.761787Z",
     "start_time": "2018-11-03T09:33:43.712802Z"
    }
   },
   "outputs": [],
   "source": [
    "# faster extraction\n",
    "N = inputs['N']\n",
    "varpi = inputs['varpi']\n",
    "test = [float(i) for i in simulation.sim['samples'][0].chains.values()][:-1]\n",
    "\n",
    "\n",
    "omega = np.array([test[0:N], test[N:2*N], test[2*N:3*N]]).transpose()\n",
    "omega_det = np.array([test[3*N:4*N], test[4*N:5*N], test[5*N:6*N]]).transpose()\n",
    "Earr = test[8*N:9*N]\n",
    "Edet = test[9*N:10*N]\n",
    "D = test[11*N:12*N]"
   ]
  },
  {
   "cell_type": "code",
   "execution_count": null,
   "metadata": {
    "ExecuteTime": {
     "end_time": "2018-11-03T09:33:53.235613Z",
     "start_time": "2018-11-03T09:33:53.003411Z"
    }
   },
   "outputs": [],
   "source": [
    "# write to file\n",
    "output_file = 'data/model_vis_samples_1e2_test.hdf5'\n",
    "with h5py.File(output_file, 'w') as f:\n",
    "    f.create_dataset('omega', data = omega)\n",
    "    f.create_dataset('omega_det', data = omega_det)\n",
    "    f.create_dataset('Earr', data = Earr)\n",
    "    f.create_dataset('Edet', data = Edet)\n",
    "    f.create_dataset('D', data = D)\n",
    "    f.create_dataset('varpi', data = inputs['varpi'])\n",
    "    f.create_dataset('N', data = inputs['N'])"
   ]
  },
  {
   "cell_type": "code",
   "execution_count": null,
   "metadata": {
    "ExecuteTime": {
     "end_time": "2018-11-03T09:58:57.620129Z",
     "start_time": "2018-11-03T09:58:51.800178Z"
    }
   },
   "outputs": [],
   "source": [
    "# calculate values from sim output\n",
    "costheta = [np.dot(o, varpi) for o in omega]\n",
    "costheta_d = [np.dot(o, varpi) for o in omega_det]\n",
    "theta = np.arccos(costheta)\n",
    "theta_d = np.arccos(costheta_d)\n",
    "\n",
    "D_arr_50 = [_ for i, _ in enumerate(D) if Earr[i] > 50 and Earr[i] < 55]\n",
    "D_arr_70 = [_ for i, _ in enumerate(D) if Earr[i] > 70 and Earr[i] < 75]\n",
    "D_det_50 = [_ for i, _ in enumerate(D) if Edet[i] > 50 and Edet[i] < 55]\n",
    "D_det_70 = [_ for i, _ in enumerate(D) if Edet[i] > 70 and Edet[i] < 75]\n",
    "\n",
    "theta_arr_50 = [_ for i, _ in enumerate(theta) if Earr[i] > 50 and Earr[i] < 55]\n",
    "theta_arr_70 = [_ for i, _ in enumerate(theta) if Earr[i] > 70 and Earr[i] < 75]\n",
    "theta_det_50 = [_ for i, _ in enumerate(theta_d) if Edet[i] > 50 and Edet[i] < 55]\n",
    "theta_det_70 = [_ for i, _ in enumerate(theta_d) if Edet[i] > 70 and Edet[i] < 75]\n",
    "\n",
    "z_arr_50 = D_arr_50 * np.cos(theta_arr_50)\n",
    "z_arr_70 = D_arr_70 * np.cos(theta_arr_70)\n",
    "z_det_50 = D_det_50 * np.cos(theta_det_50)\n",
    "z_det_70 = D_det_70 * np.cos(theta_det_70)\n",
    "\n",
    "x_arr_50 = D_arr_50 * np.sin(theta_arr_50)\n",
    "x_arr_70 = D_arr_70 * np.sin(theta_arr_70)\n",
    "x_det_50 = D_det_50 * np.sin(theta_det_50)\n",
    "x_det_70 = D_det_70 * np.sin(theta_det_70)"
   ]
  },
  {
   "cell_type": "code",
   "execution_count": null,
   "metadata": {
    "ExecuteTime": {
     "end_time": "2018-11-03T10:18:13.293467Z",
     "start_time": "2018-11-03T10:17:13.785169Z"
    }
   },
   "outputs": [],
   "source": [
    "sys.path.append('../plots')\n",
    "from HPD_regions import get_contour_levels\n",
    "\n",
    "# plot 50 and 70 EeV cases\n",
    "# legend\n",
    "legend_elements = [Line2D([0], [0], color = lightblue, linestyle = '--', \n",
    "                          label = '$E = 50-55$ EeV', linewidth = 2), \n",
    "                  Line2D([0], [0], color = darkblue, label = '$E = 70-75$ EeV',)] \n",
    "\n",
    "plt.figure(figsize = (6, 3))\n",
    "levels = [0.999, 0.99, 0.9, 0.6, 0.3]\n",
    "new_levels_50 = get_contour_levels(z_arr_50, x_arr_50, levels, 50)\n",
    "levels = [0.99, 0.95, 0.9, 0.6, 0.3, 0.01]\n",
    "new_levels_70 = get_contour_levels(z_arr_70, x_arr_70, levels, 50)\n",
    "\n",
    "sns.kdeplot(z_arr_50, x_arr_50, cmap = lb, bw = 5.,  n_levels = new_levels_50,\n",
    "            alpha = 1, zorder = 3, linestyles = '--', linewidths = 2)\n",
    "sns.kdeplot(z_arr_70, x_arr_70, cmap = db, bw = 5., n_levels = new_levels_70,\n",
    "            alpha = 1, zorder = 6, linewidths = 2)\n",
    "sns.kdeplot(z_arr_50, x_arr_50, color = lightblue, bw = 5., n_levels = new_levels_50, \n",
    "            shade = True, alpha = 0.5, zorder = 2)\n",
    "sns.kdeplot(z_arr_70, x_arr_70, color = darkblue, bw = 5., n_levels = new_levels_70,\n",
    "            shade = True, alpha = 0.7, zorder = 5)\n",
    "\n",
    "plt.xlabel('$z$ / Mpc')\n",
    "plt.ylabel(r'$x$ / Mpc')\n",
    "plt.title(r'$P(x, z | E)$', y = 1.1)\n",
    "plt.xlim(0, 400)\n",
    "plt.ylim(0, 100)\n",
    "plt.legend(frameon = False, handles = legend_elements)\n",
    "sns.despine()"
   ]
  },
  {
   "cell_type": "code",
   "execution_count": null,
   "metadata": {
    "ExecuteTime": {
     "end_time": "2018-11-02T18:41:02.540906Z",
     "start_time": "2018-11-02T18:41:00.396721Z"
    }
   },
   "outputs": [],
   "source": [
    "# plot with and without detection uncertainties\n",
    "# legend\n",
    "legend_elements = [Line2D([0], [0], color = lightblue, linestyle = '--', \n",
    "                          label = '$\\hat{E} = 50 - 55$ EeV', linewidth = 2), \n",
    "                  Line2D([0], [0], color = darkblue, label = '$E = 50-55$ EeV', \n",
    "                          linewidth = 2)]\n",
    "\n",
    "plt.figure(figsize = (6, 3))\n",
    "sns.kdeplot(z_det_50, x_det_50, cmap = lb, n_levels = 5,\n",
    "            alpha = 1, zorder = 2, linestyles = '--', linewidths = 2)\n",
    "sns.kdeplot(z_arr_50, x_arr_50, cmap = db, n_levels = 5,\n",
    "            alpha = 1, zorder = 6, linewidths = 2)\n",
    "sns.kdeplot(z_det_50, x_det_50, color = lightblue, n_levels = 5,\n",
    "            shade = True, shade_lowest = False, alpha = 0.5, zorder = 2)\n",
    "sns.kdeplot(z_arr_50, x_arr_50, color = darkblue, n_levels = 5,\n",
    "            shade = True, shade_lowest = False, alpha = 0.7, zorder = 5)\n",
    "\n",
    "plt.xlabel('$z$ / Mpc')\n",
    "plt.ylabel(r'$x$ / Mpc')\n",
    "plt.title(r'$P(x, z | E)$', y = 1.1)\n",
    "plt.xlim(0, 400)\n",
    "plt.ylim(0, 60)\n",
    "plt.legend(frameon = False, handles = legend_elements)\n",
    "sns.despine()"
   ]
  }
 ],
 "metadata": {
  "kernelspec": {
   "display_name": "Python (bayes)",
   "language": "python",
   "name": "bayes"
  },
  "language_info": {
   "codemirror_mode": {
    "name": "ipython",
    "version": 3
   },
   "file_extension": ".py",
   "mimetype": "text/x-python",
   "name": "python",
   "nbconvert_exporter": "python",
   "pygments_lexer": "ipython3",
   "version": "3.6.4"
  }
 },
 "nbformat": 4,
 "nbformat_minor": 2
}
