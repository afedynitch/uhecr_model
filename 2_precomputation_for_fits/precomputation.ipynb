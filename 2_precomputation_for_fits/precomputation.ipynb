{
 "cells": [
  {
   "cell_type": "markdown",
   "metadata": {},
   "source": [
    "# Precomputing values for use in fits of Stan models\n",
    "\n",
    "Because of the way Stan works, it is necessary to compute some values in advance which can then be passed into the fit an interpolated over. The precomputed values will be different for different sets of source distances, and therefore different catalogues. \n",
    "\n",
    "Here we show how to compute the values for the SBG catalogue, but it is exactly the same for all cases, just changing the input label.\n",
    "\n",
    "For ease, all the precomputed table files used are provided for use in this repository."
   ]
  },
  {
   "cell_type": "code",
   "execution_count": 1,
   "metadata": {
    "ExecuteTime": {
     "end_time": "2019-02-01T13:29:36.686912Z",
     "start_time": "2019-02-01T13:29:34.322950Z"
    }
   },
   "outputs": [
    {
     "name": "stderr",
     "output_type": "stream",
     "text": [
      "/Users/fran/projects/bayes/lib/python3.6/site-packages/h5py/__init__.py:36: FutureWarning: Conversion of the second argument of issubdtype from `float` to `np.floating` is deprecated. In future, it will be treated as `np.float64 == np.dtype(float).type`.\n",
      "  from ._conv import register_converters as _register_converters\n",
      "/Users/fran/projects/bayes/lib/python3.6/site-packages/tqdm/autonotebook/__init__.py:14: TqdmExperimentalWarning: Using `tqdm.autonotebook.tqdm` in notebook mode. Use `tqdm.tqdm` instead to force console mode (e.g. in jupyter console)\n",
      "  \" (e.g. in jupyter console)\", TqdmExperimentalWarning)\n"
     ]
    }
   ],
   "source": [
    "import h5py\n",
    "\n",
    "from fancy import Data, Model, Analysis\n",
    "from fancy.detector.auger2014 import detector_properties"
   ]
  },
  {
   "cell_type": "code",
   "execution_count": 4,
   "metadata": {
    "ExecuteTime": {
     "end_time": "2019-02-01T13:29:50.021325Z",
     "start_time": "2019-02-01T13:29:50.016833Z"
    }
   },
   "outputs": [],
   "source": [
    "# Define file containing catalogue information\n",
    "source_file = '../data/sourcedata.h5'\n",
    "\n",
    "# Path to Stan files\n",
    "stan_path = '../stan/'\n",
    "\n",
    "# File in which to store precomputation\n",
    "table_file = 'output/precomputation_storage.h5'"
   ]
  },
  {
   "cell_type": "code",
   "execution_count": 5,
   "metadata": {
    "ExecuteTime": {
     "end_time": "2019-02-01T13:29:50.950367Z",
     "start_time": "2019-02-01T13:29:50.937089Z"
    }
   },
   "outputs": [
    {
     "name": "stdout",
     "output_type": "stream",
     "text": [
      "2FHL_250Mpc\n",
      "SBG_23\n",
      "swift_BAT_213\n"
     ]
    }
   ],
   "source": [
    "# What sources do we have info on?\n",
    "with h5py.File(source_file, 'r') as f:\n",
    "    for key in f:\n",
    "        print(key)"
   ]
  },
  {
   "cell_type": "markdown",
   "metadata": {},
   "source": [
    "## Data, model and analysis\n",
    "\n",
    "The precomputed values depend on the source locations and the detector parameters. We also need to define a model in order to pass $E_\\rm{th}$ into the energy interpolation tables.\n",
    "\n",
    "The Analysis object brings together data and model inputs and provides an interface to do the precomputation."
   ]
  },
  {
   "cell_type": "code",
   "execution_count": 6,
   "metadata": {
    "ExecuteTime": {
     "end_time": "2019-02-01T13:29:56.673003Z",
     "start_time": "2019-02-01T13:29:56.497105Z"
    }
   },
   "outputs": [],
   "source": [
    "data = Data()\n",
    "data.add_source(source_file, 'SBG_23') \n",
    "data.source.select_sources([0, 1]) # just select 2 sources to speed up demo\n",
    "data.add_detector(detector_properties)\n",
    "\n",
    "model_name = 'joint_model.stan'\n",
    "model = Model(model_filename = model_name, include_paths = stan_path)\n",
    "model.input(Eth = 52) # EeV\n",
    "\n",
    "\n",
    "precomp_output = 'output/testing_precomputation.h5'\n",
    "summary = b'Demonstration of precomputation.' \n",
    "analysis = Analysis(data, model, analysis_type = 'joint', \n",
    "                    filename = precomp_output, summary = summary)"
   ]
  },
  {
   "cell_type": "markdown",
   "metadata": {},
   "source": [
    "## Exposure integral precomputation\n",
    "See Equation A6 in Capel & Mortlock (2019). Interpolated over to calculate $\\bar{N}$ in the fit when $\\kappa$ is unknown a priori.\n",
    "\n",
    "$$\n",
    "\\epsilon_k = \\int \\rm{d} \\omega \\ p(\\omega | \\varpi_k, \\kappa) \\epsilon(\\omega)\n",
    "$$\n",
    "\n"
   ]
  },
  {
   "cell_type": "code",
   "execution_count": 7,
   "metadata": {
    "ExecuteTime": {
     "end_time": "2019-02-01T13:32:51.004206Z",
     "start_time": "2019-02-01T13:29:59.716374Z"
    }
   },
   "outputs": [
    {
     "data": {
      "application/vnd.jupyter.widget-view+json": {
       "model_id": "e977eae1dc274606b53b5a1a21c94aee",
       "version_major": 2,
       "version_minor": 0
      },
      "text/plain": [
       "HBox(children=(IntProgress(value=0, description='Precomputing exposure integral', max=2, style=ProgressStyle(d…"
      ]
     },
     "metadata": {},
     "output_type": "display_data"
    },
    {
     "name": "stdout",
     "output_type": "stream",
     "text": [
      "\n",
      "\n",
      "\n"
     ]
    }
   ],
   "source": [
    "analysis.build_tables(fit_only = True)\n",
    "analysis.tables.save(table_file)"
   ]
  },
  {
   "cell_type": "markdown",
   "metadata": {},
   "source": [
    "## Energy interpolation\n",
    "Used to speed up fits, can solve the continuous energy loss DE, but can also interpolate over precomputed values to get $E$ given $\\tilde{E}$ for a given $D$ and vice versa.\n",
    "\n",
    "Speed up for a typical fit is from ~hours to ~minutes. I spent a considerable amount of time verifying the results are consistentent between the two methods. "
   ]
  },
  {
   "cell_type": "code",
   "execution_count": 8,
   "metadata": {
    "ExecuteTime": {
     "end_time": "2019-02-01T13:33:23.879993Z",
     "start_time": "2019-02-01T13:32:51.006576Z"
    }
   },
   "outputs": [
    {
     "data": {
      "application/vnd.jupyter.widget-view+json": {
       "model_id": "86105e15edd443a1b60cc75054f0ab99",
       "version_major": 2,
       "version_minor": 0
      },
      "text/plain": [
       "HBox(children=(IntProgress(value=0, description='Precomputing energy grids', max=2, style=ProgressStyle(descri…"
      ]
     },
     "metadata": {},
     "output_type": "display_data"
    },
    {
     "name": "stdout",
     "output_type": "stream",
     "text": [
      "\n"
     ]
    }
   ],
   "source": [
    "analysis.build_energy_table(table_file = table_file)"
   ]
  }
 ],
 "metadata": {
  "kernelspec": {
   "display_name": "Python (bayes)",
   "language": "python",
   "name": "bayes"
  },
  "language_info": {
   "codemirror_mode": {
    "name": "ipython",
    "version": 3
   },
   "file_extension": ".py",
   "mimetype": "text/x-python",
   "name": "python",
   "nbconvert_exporter": "python",
   "pygments_lexer": "ipython3",
   "version": "3.6.4"
  }
 },
 "nbformat": 4,
 "nbformat_minor": 2
}
